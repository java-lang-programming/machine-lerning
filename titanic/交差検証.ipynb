{
 "cells": [
  {
   "cell_type": "code",
   "execution_count": 15,
   "metadata": {},
   "outputs": [
    {
     "name": "stdout",
     "output_type": "stream",
     "text": [
      "[0.79124579 0.82154882 0.82828283]\n"
     ]
    },
    {
     "name": "stderr",
     "output_type": "stream",
     "text": [
      "/opt/conda/lib/python3.6/site-packages/sklearn/preprocessing/label.py:151: DeprecationWarning: The truth value of an empty array is ambiguous. Returning False, but in future this will result in an error. Use `array.size > 0` to check that an array is not empty.\n",
      "  if diff:\n",
      "/opt/conda/lib/python3.6/site-packages/sklearn/preprocessing/label.py:151: DeprecationWarning: The truth value of an empty array is ambiguous. Returning False, but in future this will result in an error. Use `array.size > 0` to check that an array is not empty.\n",
      "  if diff:\n",
      "/opt/conda/lib/python3.6/site-packages/sklearn/preprocessing/label.py:151: DeprecationWarning: The truth value of an empty array is ambiguous. Returning False, but in future this will result in an error. Use `array.size > 0` to check that an array is not empty.\n",
      "  if diff:\n"
     ]
    }
   ],
   "source": [
    "#%matplotlib notebook\n",
    "import matplotlib.pyplot as plt\n",
    "import mglearn\n",
    "import os\n",
    "import pandas as pd\n",
    "import numpy as np\n",
    "from sklearn.ensemble import RandomForestClassifier\n",
    "from sklearn.ensemble import GradientBoostingClassifier\n",
    "from sklearn.preprocessing import StandardScaler\n",
    "from sklearn.model_selection import cross_val_score\n",
    "import xgboost as xgb\n",
    "\n",
    "\n",
    "train = pd.read_csv(\"/opt/notebooks/train.csv\")\n",
    "test = pd.read_csv(\"/opt/notebooks/test.csv\")\n",
    "train[\"Age\"] = train[\"Age\"].fillna(train[\"Age\"].median())\n",
    "train[\"Embarked\"] = train[\"Embarked\"].fillna('S')\n",
    "#df = pd.DataFrame(data=train)\n",
    "#null_val = df.isnull().sum()\n",
    "#percent = 100 * df.isnull().sum()/len(df)\n",
    "#kesson_table = pd.concat([null_val, percent], axis=1)\n",
    "#kesson_table_ren_columns = kesson_table.rename(\n",
    "#columns = {0 : '欠損数', 1 : '%'})\n",
    "#print(kesson_table_ren_columns)\n",
    "train[\"Sex\"] = train[\"Sex\"].replace('male', 0)\n",
    "train[\"Sex\"] = train[\"Sex\"].replace('female', 1)\n",
    "train[\"Embarked\"] = train[\"Embarked\"].replace('S', 0)\n",
    "train[\"Embarked\"] = train[\"Embarked\"].replace('C', 1)\n",
    "train[\"Embarked\"] = train[\"Embarked\"].replace('Q', 2)\n",
    "\n",
    "\n",
    "sc = StandardScaler()\n",
    "train[[\"Age\"]] = sc.fit_transform(train[[\"Age\"]])\n",
    "\n",
    "#scFare = StandardScaler()\n",
    "#train[[\"Fare\"]] = scFare.fit_transform(train[[\"Fare\"]])\n",
    "\n",
    "test[\"Age\"] = test[\"Age\"].fillna(test[\"Age\"].median())\n",
    "test[\"Embarked\"] = test[\"Embarked\"].fillna('S')\n",
    "test[\"Fare\"] = test[\"Fare\"].fillna(test[\"Fare\"].median())\n",
    "# testも変換\n",
    "test[\"Sex\"] = test[\"Sex\"].replace('male', 0)\n",
    "test[\"Sex\"] = test[\"Sex\"].replace('female', 1)\n",
    "test[\"Embarked\"] = test[\"Embarked\"].replace('S', 0)\n",
    "test[\"Embarked\"] = test[\"Embarked\"].replace('C', 1)\n",
    "test[\"Embarked\"] = test[\"Embarked\"].replace('Q', 2)\n",
    "\n",
    "test[[\"Age\"]] = sc.fit_transform(test[[\"Age\"]])\n",
    "#test[[\"Fare\"]] = scFare.fit_transform(test[[\"Fare\"]])\n",
    "\n",
    "\n",
    "target = train['Survived'].values\n",
    "#print(target)\n",
    "features_one = train[[\"Pclass\", \"Sex\", \"Age\", \"Fare\", \"SibSp\", \"Parch\", \"Embarked\"]].values\n",
    "\n",
    "#max_depth = 10\n",
    "#min_samples_split = 5\n",
    "#rfs = RandomForestClassifier(n_estimators=5, random_state = 2)\n",
    "#gbrt = GradientBoostingClassifier(random_state = 0)\n",
    "clf = xgb.XGBClassifier()\n",
    "\n",
    "#scores = cross_val_score(gbrt, features_one, target)\n",
    "scores = cross_val_score(clf, features_one, target)\n",
    "print(scores)\n",
    "#gbrt.fit(features_one, target)\n",
    "#n_features = train[[\"Pclass\", \"Sex\", \"Age\", \"Fare\", \"SibSp\", \"Parch\", \"Embarked\"]].shape[1]\n",
    "#plt.barh(range(n_features), gbrt.feature_importances_, align='center')\n",
    "#plt.yticks(np.arange(n_features), [\"Pclass\", \"Sex\", \"Age\", \"Fare\", \"SibSp\", \"Parch\", \"Embarked\"])\n",
    "#plt.xlabel('Feature importance')\n",
    "\n",
    "#train.head(20)\n"
   ]
  },
  {
   "cell_type": "code",
   "execution_count": null,
   "metadata": {},
   "outputs": [],
   "source": []
  }
 ],
 "metadata": {
  "kernelspec": {
   "display_name": "Python 3",
   "language": "python",
   "name": "python3"
  },
  "language_info": {
   "codemirror_mode": {
    "name": "ipython",
    "version": 3
   },
   "file_extension": ".py",
   "mimetype": "text/x-python",
   "name": "python",
   "nbconvert_exporter": "python",
   "pygments_lexer": "ipython3",
   "version": "3.6.5"
  }
 },
 "nbformat": 4,
 "nbformat_minor": 2
}
